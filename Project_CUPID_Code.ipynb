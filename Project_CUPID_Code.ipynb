{
  "nbformat": 4,
  "nbformat_minor": 0,
  "metadata": {
    "colab": {
      "private_outputs": true,
      "provenance": [],
      "collapsed_sections": [
        "mAeOJ4okFxgF",
        "LNnFQi0KFvMq",
        "VAa6WngvF27p"
      ],
      "authorship_tag": "ABX9TyOG+aTonlcy0ckl74ZmO8OE",
      "include_colab_link": true
    },
    "kernelspec": {
      "name": "python3",
      "display_name": "Python 3"
    },
    "language_info": {
      "name": "python"
    }
  },
  "cells": [
    {
      "cell_type": "markdown",
      "metadata": {
        "id": "view-in-github",
        "colab_type": "text"
      },
      "source": [
        "<a href=\"https://colab.research.google.com/github/tylerdegorter/python/blob/main/Project_CUPID_Code.ipynb\" target=\"_parent\"><img src=\"https://colab.research.google.com/assets/colab-badge.svg\" alt=\"Open In Colab\"/></a>"
      ]
    },
    {
      "cell_type": "markdown",
      "source": [
        "# Install and import libraries"
      ],
      "metadata": {
        "id": "mAeOJ4okFxgF"
      }
    },
    {
      "cell_type": "code",
      "source": [
        "pip install pyvis"
      ],
      "metadata": {
        "id": "d_bPha4WXTyc"
      },
      "execution_count": null,
      "outputs": []
    },
    {
      "cell_type": "code",
      "source": [
        "!pip install gspread"
      ],
      "metadata": {
        "id": "ZpWKsFZe77NA"
      },
      "execution_count": null,
      "outputs": []
    },
    {
      "cell_type": "code",
      "source": [
        "# Call packages\n",
        "import pandas as pd\n",
        "import numpy as np\n",
        "from pyvis.network import Network\n",
        "import networkx as nx\n",
        "import matplotlib.pyplot as plt\n",
        "\n",
        "from google.colab import auth\n",
        "import gspread\n",
        "from google.auth import default"
      ],
      "metadata": {
        "id": "oRwzj2oVZDYa"
      },
      "execution_count": null,
      "outputs": []
    },
    {
      "cell_type": "markdown",
      "source": [
        "# Import mappings"
      ],
      "metadata": {
        "id": "LNnFQi0KFvMq"
      }
    },
    {
      "cell_type": "code",
      "source": [
        "# Build function to import mapping\n",
        "def import_data(selection_id, mapping_id):\n",
        "  \n",
        "  # Open our new sheet and add some data.\n",
        "  ws_1 = gc.open_by_url('https://docs.google.com/spreadsheets/d/'+selection_id+'/edit#gid=0').get_worksheet(0)\n",
        "  ws_2 = gc.open_by_url('https://docs.google.com/spreadsheets/d/'+mapping_id+'/edit#gid=0').get_worksheet(1)\n",
        "\n",
        "  # Create data frames\n",
        "  df = pd.DataFrame(columns=ws_1.get_all_values()[0], data=ws_1.get_all_values()[1:])\n",
        "  mapping = pd.DataFrame(columns=ws_2.get_all_values()[0], data=ws_2.get_all_values()[1:])\n",
        "\n",
        "  # Combine the two tables and pivot\n",
        "  df_combined = pd.merge(df, mapping, left_on = ['Submission'], right_on = ['ID'], how = 'inner').loc[:,['Name', 'Pick_1', 'Pick_2', 'Pick_3']]\n",
        "  df_pivot = pd.melt(df_combined, id_vars=['Name'])\n",
        "\n",
        "  # produce the pivoted df from this function\n",
        "  return df_pivot"
      ],
      "metadata": {
        "id": "WwEtBiQm_WpI"
      },
      "execution_count": null,
      "outputs": []
    },
    {
      "cell_type": "markdown",
      "source": [
        "# Run the model"
      ],
      "metadata": {
        "id": "VAa6WngvF27p"
      }
    },
    {
      "cell_type": "code",
      "execution_count": null,
      "metadata": {
        "id": "_MgcnqJ1XRm-"
      },
      "outputs": [],
      "source": [
        "# Build function to run the code\n",
        "def run_project_cupid():\n",
        "\n",
        "  # Get the URLs to pull in\n",
        "  cookbook = gc.open_by_url('https://docs.google.com/spreadsheets/d/13j_eRYzmCKC4KT8wpKDNw8aefJ1uK4-GvDGBLeBcMhQ/edit#gid=0').get_worksheet(0)\n",
        "  cookbook_df = pd.DataFrame(columns=cookbook.get_all_values()[0], data=cookbook.get_all_values()[1:])\n",
        "\n",
        "  # Import data\n",
        "  df_pivot = import_data(selection_id=cookbook_df['Preferences'][0], mapping_id=cookbook_df['Mappings'][0])\n",
        "\n",
        "  # Inner join the table on itself to return matches\n",
        "  final_matches = pd.merge(df_pivot, \n",
        "                        df_pivot, \n",
        "                        left_on=['Name', 'value'], \n",
        "                        right_on=['value', 'Name'])\n",
        "\n",
        "  # Clean the data and rename the columns\n",
        "  final_matches_clean = (\n",
        "      final_matches\n",
        "      .loc[final_matches['Name_x'] != final_matches['value_x'],['Name_x', 'value_x']]\n",
        "      .sort_values(by = ['Name_x'])\n",
        "      .rename(columns={'Name_x': 'Person 1', 'value_x': 'Person 2'})\n",
        "      ).drop_duplicates()\n",
        "\n",
        "  # Print final results\n",
        "  return print(final_matches_clean.sort_values(by=['Person 1']))\n",
        "\n",
        "# Authenticate\n",
        "auth.authenticate_user()\n",
        "creds, _ = default()\n",
        "gc = gspread.authorize(creds)\n",
        "\n",
        "# TODO(change from printing results to sending emails and printing \"success\" or \"fail\" status update)\n",
        "run_project_cupid()"
      ]
    },
    {
      "cell_type": "code",
      "source": [
        "# Define the function\n",
        "def create_network_map(show_names=False):\n",
        "\n",
        "  # Get the URLs to pull in\n",
        "  cookbook = gc.open_by_url('https://docs.google.com/spreadsheets/d/13j_eRYzmCKC4KT8wpKDNw8aefJ1uK4-GvDGBLeBcMhQ/edit#gid=0').get_worksheet(0)\n",
        "  cookbook_df = pd.DataFrame(columns=cookbook.get_all_values()[0], data=cookbook.get_all_values()[1:])\n",
        "\n",
        "  # Create network map df\n",
        "  df_nm = df_pivot.rename(columns={'Name':'source', 'value':'target'}).loc[:,['source', 'target']]\n",
        "\n",
        "  # create an empty directed graph\n",
        "  G = nx.DiGraph()\n",
        "\n",
        "  # add edges from pandas DataFrame to the graph\n",
        "  for _, edge in df_nm.iterrows():\n",
        "      G.add_edge(edge['source'], edge['target'])\n",
        "\n",
        "  # draw the graph\n",
        "  plt.figure(figsize=(16, 10))\n",
        "  pos = nx.spectral_layout(G)\n",
        "  nx.draw_networkx_nodes(G, pos, node_size=150)\n",
        "  nx.draw_networkx_edges(G, pos, width=0.2)\n",
        "  if show_names == True:\n",
        "    nx.draw_networkx_labels(G, pos, font_size=8, font_family=\"sans-serif\")\n",
        "  plt.axis('off')\n",
        "  plt.show()\n",
        "\n",
        "# Run the function\n",
        "create_network_map(show_names=True)"
      ],
      "metadata": {
        "id": "0ytw0M-gYyBC"
      },
      "execution_count": null,
      "outputs": []
    }
  ]
}